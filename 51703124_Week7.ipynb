{
 "cells": [
  {
   "cell_type": "code",
   "execution_count": 11,
   "metadata": {
    "collapsed": true
   },
   "outputs": [],
   "source": [
    "def fibonacci(n):\n",
    "    arr = [0, 1, 1]\n",
    "    for i in range(len(arr), n + 1):\n",
    "        arr.append(arr[i - 2] + arr[i - 1])\n",
    "    return arr[n]"
   ]
  },
  {
   "cell_type": "code",
   "execution_count": 16,
   "metadata": {},
   "outputs": [
    {
     "data": {
      "text/plain": [
       "433494437"
      ]
     },
     "execution_count": 16,
     "metadata": {},
     "output_type": "execute_result"
    }
   ],
   "source": [
    "fibonacci(43)"
   ]
  },
  {
   "cell_type": "code",
   "execution_count": 25,
   "metadata": {},
   "outputs": [],
   "source": [
    "def ljst(ls):\n",
    "    ls_value = [0]*len(ls)\n",
    "    for i in range(len(ls) - 1, -1, -1):\n",
    "        for j in range(i, len(ls)):\n",
    "            if ls[j] > ls[i]:\n",
    "                ls_value[i] = ls_value[j] + 1\n",
    "                break\n",
    "#     get\n",
    "    max_i_ls = list()\n",
    "    start = max(ls_value)\n",
    "    for i in range(len(ls)):\n",
    "        if ls_value[i] == start:\n",
    "            max_i_ls.append(ls[i])\n",
    "            start -= 1\n",
    "    \n",
    "    return max_i_ls"
   ]
  },
  {
   "cell_type": "code",
   "execution_count": 26,
   "metadata": {},
   "outputs": [
    {
     "data": {
      "text/plain": [
       "[2, 4, 6, 9]"
      ]
     },
     "execution_count": 26,
     "metadata": {},
     "output_type": "execute_result"
    }
   ],
   "source": [
    "ljst([5,8,3,7,2,4,6,9])"
   ]
  },
  {
   "cell_type": "code",
   "execution_count": null,
   "metadata": {
    "collapsed": true
   },
   "outputs": [],
   "source": [
    "def lcs(str1, str2):\n",
    "    "
   ]
  }
 ],
 "metadata": {
  "kernelspec": {
   "display_name": "Python 3",
   "language": "python",
   "name": "python3"
  },
  "language_info": {
   "codemirror_mode": {
    "name": "ipython",
    "version": 3
   },
   "file_extension": ".py",
   "mimetype": "text/x-python",
   "name": "python",
   "nbconvert_exporter": "python",
   "pygments_lexer": "ipython3",
   "version": "3.6.3"
  }
 },
 "nbformat": 4,
 "nbformat_minor": 2
}
